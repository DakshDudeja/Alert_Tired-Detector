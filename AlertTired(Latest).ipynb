{
  "nbformat": 4,
  "nbformat_minor": 0,
  "metadata": {
    "accelerator": "GPU",
    "colab": {
      "name": "AlertTired(Latest).ipynb",
      "provenance": [],
      "include_colab_link": true
    },
    "kernelspec": {
      "display_name": "Python 3",
      "language": "python",
      "name": "python3"
    },
    "language_info": {
      "codemirror_mode": {
        "name": "ipython",
        "version": 3
      },
      "file_extension": ".py",
      "mimetype": "text/x-python",
      "name": "python",
      "nbconvert_exporter": "python",
      "pygments_lexer": "ipython3",
      "version": "3.7.6"
    }
  },
  "cells": [
    {
      "cell_type": "markdown",
      "metadata": {
        "id": "view-in-github",
        "colab_type": "text"
      },
      "source": [
        "<a href=\"https://colab.research.google.com/github/DakshDudeja/Code-C-/blob/main/AlertTired(Latest).ipynb\" target=\"_parent\"><img src=\"https://colab.research.google.com/assets/colab-badge.svg\" alt=\"Open In Colab\"/></a>"
      ]
    },
    {
      "cell_type": "code",
      "metadata": {
        "id": "_SIjMCXCOo9T"
      },
      "source": [
        "import keras\n",
        "import matplotlib.pyplot as plt\n",
        "from sklearn.utils import shuffle\n",
        "from keras import layers\n",
        "from keras import models"
      ],
      "execution_count": null,
      "outputs": []
    },
    {
      "cell_type": "code",
      "metadata": {
        "id": "-fXL_6N5Oo9Z"
      },
      "source": [
        "import sys, os\n",
        "import numpy as np\n",
        "import pandas as pd"
      ],
      "execution_count": null,
      "outputs": []
    },
    {
      "cell_type": "code",
      "metadata": {
        "id": "NppOjErjjo_k",
        "colab": {
          "base_uri": "https://localhost:8080/"
        },
        "outputId": "b5ccc74a-7f68-4723-894a-e4aeadaf7311"
      },
      "source": [
        "from google.colab import drive\n",
        "drive.mount('/content/drive')"
      ],
      "execution_count": null,
      "outputs": [
        {
          "output_type": "stream",
          "text": [
            "Mounted at /content/drive\n"
          ],
          "name": "stdout"
        }
      ]
    },
    {
      "cell_type": "code",
      "metadata": {
        "id": "AZLn4DKROo9c"
      },
      "source": [
        "train_dir=\"/content/drive/My Drive/Driver_Data/output/train\"\n",
        "validation_dir=\"/content/drive/My Drive/Driver_Data/output/val\"\n",
        "test_dir=\"/content/drive/My Drive/Driver_Data/output/test\"\n",
        "train_alert_dir=\"/content/drive/My Drive/Driver_Data/output/train/alert\"\n",
        "train_tired_dir=\"/content/drive/My Drive/Driver_Data/output/train/tired\"\n",
        "train_nv_dir=\"/content/drive/My Drive/Driver_Data/output/train/nv\"\n",
        "validation_alert_dir=\"/content/drive/My Drive/Driver_Data/output/val/alert\"\n",
        "validation_tired_dir=\"/content/drive/My Drive/Driver_Data/output/val/tired\"\n",
        "validation_nv_dir=\"/content/drive/My Drive/Driver_Data/output/val/nv\"\n",
        "test_alert_dir=\"/content/drive/My Drive/Driver_Data/output/test/alert\"\n",
        "test_tired_dir=\"/content/drive/My Drive/Driver_Data/output/test/tired\"\n",
        "test_nv_dir=\"/content/drive/My Drive/Driver_Data/output/test/nv\""
      ],
      "execution_count": null,
      "outputs": []
    },
    {
      "cell_type": "code",
      "metadata": {
        "id": "c24CnLrAOo9e",
        "colab": {
          "base_uri": "https://localhost:8080/"
        },
        "outputId": "0b61d7f8-5a6a-4d3d-b668-e439fec1eea5"
      },
      "source": [
        "print('Total training alert images:', len(os.listdir(train_alert_dir)))\n",
        "print('Total training tired images:', len(os.listdir(train_tired_dir)))\n",
        "print('Total training non-vigilant images:', len(os.listdir(train_nv_dir)))"
      ],
      "execution_count": null,
      "outputs": [
        {
          "output_type": "stream",
          "text": [
            "Total training alert images: 1001\n",
            "Total training tired images: 1148\n",
            "Total training non-vigilant images: 37\n"
          ],
          "name": "stdout"
        }
      ]
    },
    {
      "cell_type": "code",
      "metadata": {
        "id": "JoegnogPOo9j",
        "colab": {
          "base_uri": "https://localhost:8080/"
        },
        "outputId": "54f31f89-048d-4b23-c96c-7764158e1f74"
      },
      "source": [
        "print('Total validation alert images:', len(os.listdir(validation_alert_dir)))\n",
        "print('Total validation tired images:', len(os.listdir(validation_tired_dir)))\n",
        "print('Total validation non-vigilant images:', len(os.listdir(validation_nv_dir)))"
      ],
      "execution_count": null,
      "outputs": [
        {
          "output_type": "stream",
          "text": [
            "Total validation alert images: 125\n",
            "Total validation tired images: 143\n",
            "Total validation non-vigilant images: 40\n"
          ],
          "name": "stdout"
        }
      ]
    },
    {
      "cell_type": "code",
      "metadata": {
        "id": "ZTJ7_n7NOo9o",
        "colab": {
          "base_uri": "https://localhost:8080/"
        },
        "outputId": "412de76d-cd5d-4d79-802f-b4d17915b3f6"
      },
      "source": [
        "print('Total test alert images:', len(os.listdir(test_alert_dir)))\n",
        "print('Total test tired images:', len(os.listdir(test_tired_dir)))\n",
        "print('Total test non-vigilant images:', len(os.listdir(test_nv_dir)))"
      ],
      "execution_count": null,
      "outputs": [
        {
          "output_type": "stream",
          "text": [
            "Total test alert images: 126\n",
            "Total test tired images: 145\n",
            "Total test non-vigilant images: 40\n"
          ],
          "name": "stdout"
        }
      ]
    },
    {
      "cell_type": "code",
      "metadata": {
        "id": "2n2cUorXYy5B",
        "colab": {
          "base_uri": "https://localhost:8080/",
          "height": 193
        },
        "outputId": "6aaa295c-43e8-45b0-fb8a-92aeda50515a"
      },
      "source": [
        "from matplotlib import pyplot\n",
        "from matplotlib.image import imread\n",
        "folder = train_alert_dir\n",
        "for i in range(6):\n",
        "    pyplot.subplot(330 + 1 + i)\n",
        "    i=i+1\n",
        "    filename = folder + '/00' + str(i) + '_frame' + str(i) + '.jpg'\n",
        "    image = imread(filename)\n",
        "    pyplot.imshow(image)\n",
        "pyplot.show()"
      ],
      "execution_count": null,
      "outputs": [
        {
          "output_type": "display_data",
          "data": {
            "image/png": "[encoded data removed]",
            "text/plain": [
              "<Figure size 432x288 with 6 Axes>"
            ]
          },
          "metadata": {
            "tags": [],
            "needs_background": "light"
          }
        }
      ]
    },
    {
      "cell_type": "code",
      "metadata": {
        "id": "67nw1_EGOo96",
        "colab": {
          "base_uri": "https://localhost:8080/"
        },
        "outputId": "c67ef8bf-4e81-4ece-e93e-e208bf609983"
      },
      "source": [
        "from keras.preprocessing.image import ImageDataGenerator\n",
        "\n",
        "# All images will be rescaled by 1./255\n",
        "train_datagen = ImageDataGenerator(rescale=1./255)\n",
        "test_datagen = ImageDataGenerator(rescale=1./255)\n",
        "val_datagen = ImageDataGenerator(rescale=1./255)\n",
        "\n",
        "train_generator = train_datagen.flow_from_directory(\n",
        "        train_dir,\n",
        "        target_size=(150, 150),\n",
        "        batch_size=20,\n",
        "        class_mode='sparse')\n",
        "\n",
        "validation_generator = val_datagen.flow_from_directory(\n",
        "        validation_dir,\n",
        "        target_size=(150, 150),\n",
        "        batch_size=20,\n",
        "        class_mode='sparse')\n",
        "\n",
        "test_generator = test_datagen.flow_from_directory(\n",
        "        test_dir,\n",
        "        target_size=(150, 150),\n",
        "        batch_size=20,\n",
        "        class_mode='sparse')"
      ],
      "execution_count": null,
      "outputs": [
        {
          "output_type": "stream",
          "text": [
            "Found 2186 images belonging to 3 classes.\n",
            "Found 308 images belonging to 3 classes.\n",
            "Found 311 images belonging to 3 classes.\n"
          ],
          "name": "stdout"
        }
      ]
    },
    {
      "cell_type": "code",
      "metadata": {
        "id": "jIUqvCxvOo9z"
      },
      "source": [
        "model = models.Sequential()\n",
        "model.add(layers.Conv2D(32, (3, 3), activation='relu',\n",
        "                        input_shape=(150, 150, 3)))\n",
        "model.add(layers.MaxPooling2D((2, 2)))\n",
        "\n",
        "model.add(layers.Conv2D(32, (3, 3), activation='relu'))\n",
        "model.add(layers.MaxPooling2D((2, 2)))\n",
        "\n",
        "model.add(layers.Conv2D(64, (3, 3), activation='relu'))\n",
        "model.add(layers.MaxPooling2D((2, 2)))\n",
        "\n",
        "model.add(layers.Conv2D(128, (3, 3), activation='relu'))\n",
        "model.add(layers.MaxPooling2D((2, 2)))\n",
        "\n",
        "model.add(layers.Conv2D(128, (3, 3), activation='relu'))\n",
        "model.add(layers.MaxPooling2D((2, 2)))\n",
        "\n",
        "model.add(layers.Flatten())\n",
        "\n",
        "model.add(layers.Dense(512, activation='relu'))\n",
        "model.add(layers.Dense(3, activation='softmax'))"
      ],
      "execution_count": null,
      "outputs": []
    },
    {
      "cell_type": "code",
      "metadata": {
        "id": "PP1eE4_OOo91",
        "colab": {
          "base_uri": "https://localhost:8080/",
          "height": 537
        },
        "outputId": "0469642e-6769-4135-9b0a-d7fbffc86978"
      },
      "source": [
        "model.summary()"
      ],
      "execution_count": null,
      "outputs": [
        {
          "output_type": "stream",
          "text": [
            "Model: \"sequential_9\"\n",
            "_________________________________________________________________\n",
            "Layer (type)                 Output Shape              Param #   \n",
            "=================================================================\n",
            "conv2d_45 (Conv2D)           (None, 148, 148, 32)      896       \n",
            "_________________________________________________________________\n",
            "max_pooling2d_45 (MaxPooling (None, 74, 74, 32)        0         \n",
            "_________________________________________________________________\n",
            "conv2d_46 (Conv2D)           (None, 72, 72, 32)        9248      \n",
            "_________________________________________________________________\n",
            "max_pooling2d_46 (MaxPooling (None, 36, 36, 32)        0         \n",
            "_________________________________________________________________\n",
            "conv2d_47 (Conv2D)           (None, 34, 34, 64)        18496     \n",
            "_________________________________________________________________\n",
            "max_pooling2d_47 (MaxPooling (None, 17, 17, 64)        0         \n",
            "_________________________________________________________________\n",
            "conv2d_48 (Conv2D)           (None, 15, 15, 128)       73856     \n",
            "_________________________________________________________________\n",
            "max_pooling2d_48 (MaxPooling (None, 7, 7, 128)         0         \n",
            "_________________________________________________________________\n",
            "conv2d_49 (Conv2D)           (None, 5, 5, 128)         147584    \n",
            "_________________________________________________________________\n",
            "max_pooling2d_49 (MaxPooling (None, 2, 2, 128)         0         \n",
            "_________________________________________________________________\n",
            "flatten_9 (Flatten)          (None, 512)               0         \n",
            "_________________________________________________________________\n",
            "dense_18 (Dense)             (None, 512)               262656    \n",
            "_________________________________________________________________\n",
            "dense_19 (Dense)             (None, 3)                 1539      \n",
            "=================================================================\n",
            "Total params: 514,275\n",
            "Trainable params: 514,275\n",
            "Non-trainable params: 0\n",
            "_________________________________________________________________\n"
          ],
          "name": "stdout"
        }
      ]
    },
    {
      "cell_type": "code",
      "metadata": {
        "id": "m8dIuBRDOo93"
      },
      "source": [
        "from keras import optimizers\n",
        "\n",
        "model.compile(loss='sparse_categorical_crossentropy',\n",
        "              optimizer=optimizers.RMSprop(lr=1e-4),\n",
        "              metrics=['acc'])"
      ],
      "execution_count": null,
      "outputs": []
    },
    {
      "cell_type": "code",
      "metadata": {
        "id": "TuDRha2BOo-B",
        "colab": {
          "base_uri": "https://localhost:8080/"
        },
        "outputId": "04aee5a1-3899-4c6a-ee1d-7be2bd2ed4ab"
      },
      "source": [
        "history = model.fit(\n",
        "      train_generator,\n",
        "      steps_per_epoch=10,\n",
        "      epochs=15,\n",
        "      validation_data=validation_generator,\n",
        "      validation_steps=10)"
      ],
      "execution_count": null,
      "outputs": [
        {
          "output_type": "stream",
          "text": [
            "Epoch 1/15\n",
            "10/10 [==============================] - 164s 16s/step - loss: 0.9334 - acc: 0.5300 - val_loss: 0.9987 - val_acc: 0.5000\n",
            "Epoch 2/15\n",
            "10/10 [==============================] - 86s 9s/step - loss: 0.7650 - acc: 0.5000 - val_loss: 1.1999 - val_acc: 0.4500\n",
            "Epoch 3/15\n",
            "10/10 [==============================] - 64s 6s/step - loss: 0.7760 - acc: 0.5400 - val_loss: 1.0777 - val_acc: 0.5550\n",
            "Epoch 4/15\n",
            "10/10 [==============================] - 65s 6s/step - loss: 0.7670 - acc: 0.5800 - val_loss: 1.0021 - val_acc: 0.5600\n",
            "Epoch 5/15\n",
            "10/10 [==============================] - 46s 5s/step - loss: 0.6988 - acc: 0.5750 - val_loss: 1.1533 - val_acc: 0.4850\n",
            "Epoch 6/15\n",
            "10/10 [==============================] - 35s 4s/step - loss: 0.8190 - acc: 0.5484 - val_loss: 1.1061 - val_acc: 0.5850\n",
            "Epoch 7/15\n",
            "10/10 [==============================] - 36s 4s/step - loss: 0.7211 - acc: 0.5800 - val_loss: 1.2067 - val_acc: 0.5150\n",
            "Epoch 8/15\n",
            "10/10 [==============================] - 38s 4s/step - loss: 0.7535 - acc: 0.5850 - val_loss: 1.0524 - val_acc: 0.4650\n",
            "Epoch 9/15\n",
            "10/10 [==============================] - 32s 3s/step - loss: 0.7447 - acc: 0.5550 - val_loss: 1.0845 - val_acc: 0.4950\n",
            "Epoch 10/15\n",
            "10/10 [==============================] - 31s 3s/step - loss: 0.6919 - acc: 0.5800 - val_loss: 1.1431 - val_acc: 0.4800\n",
            "Epoch 11/15\n",
            "10/10 [==============================] - 31s 3s/step - loss: 0.7157 - acc: 0.6000 - val_loss: 1.0570 - val_acc: 0.6000\n",
            "Epoch 12/15\n",
            "10/10 [==============================] - 29s 3s/step - loss: 0.7397 - acc: 0.5750 - val_loss: 1.0092 - val_acc: 0.5300\n",
            "Epoch 13/15\n",
            "10/10 [==============================] - 24s 2s/step - loss: 0.6847 - acc: 0.6800 - val_loss: 1.0437 - val_acc: 0.5400\n",
            "Epoch 14/15\n",
            "10/10 [==============================] - 18s 2s/step - loss: 0.6765 - acc: 0.6500 - val_loss: 1.0986 - val_acc: 0.4950\n",
            "Epoch 15/15\n",
            "10/10 [==============================] - 25s 2s/step - loss: 0.7588 - acc: 0.5950 - val_loss: 1.0674 - val_acc: 0.5600\n"
          ],
          "name": "stdout"
        }
      ]
    },
    {
      "cell_type": "code",
      "metadata": {
        "id": "gSy57fy5Yy5U",
        "outputId": "39a41560-0255-4906-c07f-e1eebbee691e"
      },
      "source": [
        "import matplotlib.pyplot as plt\n",
        "\n",
        "acc = history.history['acc']\n",
        "val_acc = history.history['val_acc']\n",
        "\n",
        "epochs = range(len(acc))\n",
        "\n",
        "plt.plot(epochs, acc, 'bo', label='Training acc')\n",
        "plt.plot(epochs, val_acc, 'b', label='Validation acc')\n",
        "plt.title('Training and validation accuracy')\n",
        "plt.legend()\n",
        "\n",
        "plt.figure()\n",
        "plt.show()"
      ],
      "execution_count": null,
      "outputs": [
        {
          "output_type": "display_data",
          "data": {
            "image/png": "[encoded data removed]",
            "text/plain": [
              "<Figure size 432x288 with 1 Axes>"
            ]
          },
          "metadata": {
            "tags": [],
            "needs_background": "light"
          }
        },
        {
          "output_type": "display_data",
          "data": {
            "text/plain": [
              "<Figure size 432x288 with 0 Axes>"
            ]
          },
          "metadata": {
            "tags": []
          }
        }
      ]
    },
    {
      "cell_type": "code",
      "metadata": {
        "id": "ZxR4ZZlBYy5X",
        "colab": {
          "base_uri": "https://localhost:8080/"
        },
        "outputId": "acf84a12-e873-4514-8734-ec43e5d261af"
      },
      "source": [
        "history = model.fit(\n",
        "      train_generator,\n",
        "      steps_per_epoch=10,\n",
        "      epochs=15,\n",
        "      validation_data=test_generator,\n",
        "      validation_steps=10)"
      ],
      "execution_count": null,
      "outputs": [
        {
          "output_type": "stream",
          "text": [
            "Epoch 1/15\n",
            "10/10 [==============================] - 98s 10s/step - loss: 0.7040 - acc: 0.6400 - val_loss: 1.0695 - val_acc: 0.5300\n",
            "Epoch 2/15\n",
            "10/10 [==============================] - 39s 4s/step - loss: 0.6781 - acc: 0.6700 - val_loss: 1.0333 - val_acc: 0.5100\n",
            "Epoch 3/15\n",
            "10/10 [==============================] - 23s 2s/step - loss: 0.6486 - acc: 0.6800 - val_loss: 1.0718 - val_acc: 0.5700\n",
            "Epoch 4/15\n",
            "10/10 [==============================] - 18s 2s/step - loss: 0.7309 - acc: 0.6350 - val_loss: 1.0031 - val_acc: 0.5350\n",
            "Epoch 5/15\n",
            "10/10 [==============================] - 18s 2s/step - loss: 0.6274 - acc: 0.7000 - val_loss: 0.9896 - val_acc: 0.6150\n",
            "Epoch 6/15\n",
            "10/10 [==============================] - 14s 1s/step - loss: 0.6463 - acc: 0.6550 - val_loss: 1.0657 - val_acc: 0.5700\n",
            "Epoch 7/15\n",
            "10/10 [==============================] - 14s 1s/step - loss: 0.6787 - acc: 0.6700 - val_loss: 1.0220 - val_acc: 0.5700\n",
            "Epoch 8/15\n",
            "10/10 [==============================] - 12s 1s/step - loss: 0.6349 - acc: 0.6850 - val_loss: 1.0354 - val_acc: 0.5800\n",
            "Epoch 9/15\n",
            "10/10 [==============================] - 13s 1s/step - loss: 0.6149 - acc: 0.6900 - val_loss: 1.0825 - val_acc: 0.5000\n",
            "Epoch 10/15\n",
            "10/10 [==============================] - 11s 1s/step - loss: 0.5646 - acc: 0.7800 - val_loss: 1.0783 - val_acc: 0.5700\n",
            "Epoch 11/15\n",
            "10/10 [==============================] - 10s 1s/step - loss: 0.5274 - acc: 0.7800 - val_loss: 1.4114 - val_acc: 0.5000\n",
            "Epoch 12/15\n",
            "10/10 [==============================] - 10s 1s/step - loss: 0.6118 - acc: 0.6800 - val_loss: 1.0574 - val_acc: 0.5850\n",
            "Epoch 13/15\n",
            "10/10 [==============================] - 11s 1s/step - loss: 0.5735 - acc: 0.7700 - val_loss: 1.0541 - val_acc: 0.6250\n",
            "Epoch 14/15\n",
            "10/10 [==============================] - 9s 921ms/step - loss: 0.5280 - acc: 0.7450 - val_loss: 1.0658 - val_acc: 0.5850\n",
            "Epoch 15/15\n",
            "10/10 [==============================] - 9s 934ms/step - loss: 0.6122 - acc: 0.6950 - val_loss: 1.0667 - val_acc: 0.6100\n"
          ],
          "name": "stdout"
        }
      ]
    },
    {
      "cell_type": "code",
      "metadata": {
        "id": "KfSaNJhFOo-b",
        "colab": {
          "base_uri": "https://localhost:8080/",
          "height": 298
        },
        "outputId": "e991a703-2d68-4897-b180-c170841b1d93"
      },
      "source": [
        "import matplotlib.pyplot as plt\n",
        "\n",
        "acc = history.history['acc']\n",
        "val_acc = history.history['val_acc']\n",
        "\n",
        "epochs = range(len(acc))\n",
        "\n",
        "plt.plot(epochs, acc, 'bo', label='Training acc')\n",
        "plt.plot(epochs, val_acc, 'b', label='Validation acc')\n",
        "plt.title('Training and validation accuracy')\n",
        "plt.legend()\n",
        "\n",
        "plt.figure()\n",
        "plt.show()"
      ],
      "execution_count": null,
      "outputs": [
        {
          "output_type": "display_data",
          "data": {
            "image/png": "[encoded data removed]",
            "text/plain": [
              "<Figure size 432x288 with 1 Axes>"
            ]
          },
          "metadata": {
            "tags": [],
            "needs_background": "light"
          }
        },
        {
          "output_type": "display_data",
          "data": {
            "text/plain": [
              "<Figure size 432x288 with 0 Axes>"
            ]
          },
          "metadata": {
            "tags": []
          }
        }
      ]
    },
    {
      "cell_type": "code",
      "metadata": {
        "id": "Tnv6Z5_yYy5g",
        "outputId": "eab1668f-fc69-418e-f815-6d25440d3075"
      },
      "source": [
        "a = np.array(acc)\n",
        "m = np.mean(a)\n",
        "m"
      ],
      "execution_count": null,
      "outputs": [
        {
          "output_type": "execute_result",
          "data": {
            "text/plain": [
              "0.8139855146408081"
            ]
          },
          "metadata": {
            "tags": []
          },
          "execution_count": 90
        }
      ]
    },
    {
      "cell_type": "code",
      "metadata": {
        "id": "DuNPOEbAOo-D"
      },
      "source": [
        "model.save('Driver_Data.h5')"
      ],
      "execution_count": null,
      "outputs": []
    },
    {
      "cell_type": "code",
      "metadata": {
        "id": "C6RsouipYy5l"
      },
      "source": [
        "img_path = \"./photot.jpg\"\n",
        "from keras.preprocessing import image\n",
        "img = image.load_img(img_path, target_size=(150, 150))\n",
        "x = image.img_to_array(img)\n",
        "x = x.reshape((1,) + x.shape)"
      ],
      "execution_count": null,
      "outputs": []
    },
    {
      "cell_type": "code",
      "metadata": {
        "id": "WBagU-j3Yy5o",
        "outputId": "2f945dc4-18fe-487e-df93-dae90ed57301"
      },
      "source": [
        "model.predict_classes(x)"
      ],
      "execution_count": null,
      "outputs": [
        {
          "output_type": "execute_result",
          "data": {
            "text/plain": [
              "array([2], dtype=int64)"
            ]
          },
          "metadata": {
            "tags": []
          },
          "execution_count": 107
        }
      ]
    },
    {
      "cell_type": "code",
      "metadata": {
        "id": "yB13flQPYy5q"
      },
      "source": [
        ""
      ],
      "execution_count": null,
      "outputs": []
    }
  ]
}